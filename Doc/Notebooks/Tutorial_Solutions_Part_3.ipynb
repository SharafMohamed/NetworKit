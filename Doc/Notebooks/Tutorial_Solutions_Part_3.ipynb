{
 "cells": [
  {
   "cell_type": "markdown",
   "metadata": {},
   "source": [
    "# Tutorial \"Algorithmic Methods for Network Analysis with NetworKit\" (Part 3)\n",
    "\n",
    "## Determining Important Nodes\n",
    "There are a number of ways to measure the importance of nodes in a network. Possibly the easiest is the degree, i.e. the number of neighbors. In a social network, for example, a person who knows many others could be an important person. However, is this notion really meaningful? Probably not, since it does not consider the importance of the neighbors. Also, there is an interesting effect in social networks with respect to neighborhood sizes. Let us investigate this effect a little bit:\n",
    "\n",
    "### Q&A Session #4\n",
    "1. Do you think your number of online friends is above/below/on average? (You do not have to answer this question openly.)\n",
    "**Answer (may be secret):**\n",
    "\n",
    "2. What do you expect: How many people (in percent) in a social network have fewer friends than their friends on average?\n",
    "**Answer (choose one):**\n",
    "a)  0 -  25%\n",
    "b) 26 -  50%\n",
    "c) 51 -  75%\n",
    "d) 76 - 100%\n",
    "\n",
    "3. Use the Facebook graph. Compute for each vertex the average degree of its neighbors.\n",
    "**Answer:**\n",
    "\n",
    "4. Count the number of persons whose friends have on average more friends. What is their percentage in this network?\n",
    "**Answer:**\n"
   ]
  },
  {
   "cell_type": "code",
   "execution_count": 9,
   "metadata": {
    "collapsed": false
   },
   "outputs": [],
   "source": [
    "%matplotlib inline\n",
    "from networkit import *\n",
    "import matplotlib.pyplot as plt"
   ]
  },
  {
   "cell_type": "code",
   "execution_count": 10,
   "metadata": {
    "collapsed": false
   },
   "outputs": [
    {
     "name": "stdout",
     "output_type": "stream",
     "text": [
      "/Users/Henning/Documents/workspace/NetworKit\n"
     ]
    }
   ],
   "source": [
    "cd ~/Documents/workspace/NetworKit"
   ]
  },
  {
   "cell_type": "code",
   "execution_count": 11,
   "metadata": {
    "collapsed": false
   },
   "outputs": [],
   "source": [
    "%matplotlib inline"
   ]
  },
  {
   "cell_type": "code",
   "execution_count": 12,
   "metadata": {
    "collapsed": false
   },
   "outputs": [],
   "source": [
    "G = readGraph(\"input/MIT8.edgelist\", Format.EdgeListTabZero)"
   ]
  },
  {
   "cell_type": "code",
   "execution_count": 13,
   "metadata": {
    "collapsed": false
   },
   "outputs": [],
   "source": [
    "def avgFriendDegree(v):\n",
    "    \"\"\" Calculate the average degree of the neighbors of a node\"\"\"\n",
    "    degSum = 0\n",
    "    for u in G.neighbors(v):\n",
    "        degSum += G.degree(u)\n",
    "    return degSum / G.degree(v)"
   ]
  },
  {
   "cell_type": "code",
   "execution_count": 14,
   "metadata": {
    "collapsed": false
   },
   "outputs": [
    {
     "data": {
      "text/plain": [
       "<matplotlib.collections.PathCollection at 0x10bd6b208>"
      ]
     },
     "execution_count": 14,
     "metadata": {},
     "output_type": "execute_result"
    },
    {
     "data": {
      "image/png": "[encoded data removed]",
      "text/plain": [
       "<matplotlib.figure.Figure at 0x10bbc5160>"
      ]
     },
     "metadata": {},
     "output_type": "display_data"
    }
   ],
   "source": [
    "# Code for 3-3) and 3-4)\n",
    "maxDeg = sorted(centrality.DegreeCentrality(G).run().scores(), reverse=True)[1]\n",
    "plt.figure(figsize=(10,6))\n",
    "plt.xlim(0, maxDeg)\n",
    "plt.ylim(0, maxDeg)\n",
    "plt.xlabel(\"number of friends\")\n",
    "plt.ylabel(\"average number of friends of friends\")\n",
    "plt.scatter(x=[G.degree(v) for v in G.nodes()], y=[avgFriendDegree(v) for v in G.nodes()], s=0.2,)"
   ]
  },
  {
   "cell_type": "code",
   "execution_count": 15,
   "metadata": {
    "collapsed": false
   },
   "outputs": [
    {
     "name": "stdout",
     "output_type": "stream",
     "text": [
      "4-4):  0.8608695652173913\n"
     ]
    }
   ],
   "source": [
    "count = 0 # count the number of persons whose friends have on average more friends\n",
    "count = 0 # count the number of persons whose friends have on average more friends\n",
    "for v in G.nodes():\n",
    "    if G.degree(v) < avgFriendDegree(v):\n",
    "        count += 1\n",
    "print(\"4-4): \", count / G.numberOfNodes())"
   ]
  },
  {
   "cell_type": "markdown",
   "metadata": {},
   "source": [
    "Thus, **86% of the users in this network have fewer friends than their friends have on average**. While this result cannot be generalized exactly like this to other networks, the qualitative effect is often seen in social (and other) networks. Thus, let us now consider measures that broaden the rather narrow scope of the degree.\n",
    "\n",
    "### $k$-core Decomposition\n",
    "Thus, the next concept we consider is the $k$-core decomposition. To answer the following Q&A session, go back to the lecture slides.\n",
    "\n",
    "### Q&A Session #5\n",
    "\n",
    "1. What is the definition of an $i$-core? (Note that $k$ is often used for the largest core only!)\n",
    "**Answer:**\n",
    "\n",
    "2. Why do you think it can be considered a more robust measure for importance compared to the degree?\n",
    "**Answer:**\n",
    "\n",
    "3. Compute the $k$-core decomposition of the three networks used before. Then print the non-empty $i$-shells by using the method scores(). What results (similarities/differences) do you expect? Are these expectations met by the results?\n",
    "**Answer:**\n",
    "\n",
    "4. What disadvantage do you see when using $k$-core decomposition to rate nodes according to their importance?\n",
    "**Answer:**"
   ]
  },
  {
   "cell_type": "code",
   "execution_count": 20,
   "metadata": {
    "collapsed": false
   },
   "outputs": [
    {
     "name": "stdout",
     "output_type": "stream",
     "text": [
      "b'Graph(name=G#140, n=1000, m=5054)'\n",
      "{2.0, 3.0, 4.0, 5.0, 6.0, 7.0}\n",
      "b'Graph(name=airfoil1, n=4253, m=12289)'\n",
      "{3.0, 4.0}\n",
      "b'Graph(name=MIT8, n=6440, m=251252)'\n",
      "{1.0, 2.0, 3.0, 4.0, 5.0, 6.0, 7.0, 8.0, 9.0, 10.0, 11.0, 12.0, 13.0, 14.0, 15.0, 16.0, 17.0, 18.0, 19.0, 20.0, 21.0, 22.0, 23.0, 24.0, 25.0, 26.0, 27.0, 28.0, 29.0, 30.0, 31.0, 32.0, 33.0, 34.0, 35.0, 36.0, 37.0, 38.0, 39.0, 40.0, 41.0, 42.0, 43.0, 44.0, 45.0, 46.0, 47.0, 48.0, 49.0, 50.0, 51.0, 52.0, 53.0, 54.0, 55.0, 56.0, 57.0, 58.0, 59.0, 60.0, 61.0, 62.0, 63.0, 64.0, 65.0, 66.0, 67.0, 68.0, 69.0, 70.0, 71.0, 72.0}\n"
     ]
    }
   ],
   "source": [
    "# Code for 5-3)\n",
    "mit8 = readGraph(\"input/MIT8.edgelist\", Format.EdgeListTabZero)\n",
    "airf1 = readGraph(\"input/airfoil1.graph\", Format.METIS)\n",
    "gen = generators.ErdosRenyiGenerator(1000, 0.01)\n",
    "er1000 = gen.generate()\n",
    "\n",
    "for g in {mit8, airf1, er1000}:\n",
    "    print(g.toString())\n",
    "    coreDec = centrality.CoreDecomposition(g)\n",
    "    coreDec.run()\n",
    "    print(set(coreDec.scores()))"
   ]
  },
  {
   "cell_type": "markdown",
   "metadata": {},
   "source": [
    "### Centrality Measures\n",
    "The $k$-core decomposition is rather, as the name suggests, a decomposition of the vertices into discrete subsets. Nodes with the same coreness (i.e. in the same shell) have equal importance. Rankings where many vertices are equally important are often not very meaningful. That is why the $k$-core decomposition should *not* be interpreted as a *fine-grained* ranking mechanism.\n",
    "\n",
    "### Q&A Session #6\n",
    "\n",
    "1. Take the Facebook graph MIT8 and find the most central nodes. Take the relevance of their neighbors into account. Consider that MIT8 models a social network, not a web graph. Which algorithm would you choose? (Hint: Look at the lecture slides!)\n",
    "**Answer:**\n",
    "\n",
    "2. What are the 15 most important nodes according to the method in 1)?\n",
    "**Answer:**\n",
    "\n",
    "3. What other centrality measures do you recall?\n",
    "**Answer:**\n",
    "\n",
    "\n",
    "After you answered the questions, proceed with Tutorial #4.\n"
   ]
  },
  {
   "cell_type": "code",
   "execution_count": null,
   "metadata": {
    "collapsed": false
   },
   "outputs": [],
   "source": [
    "# Code for 6-1) and 6-2)\n",
    "evc = centrality.EigenvectorCentrality(mit8)\n",
    "evc.run()\n",
    "evc.ranking()[:15]"
   ]
  },
  {
   "cell_type": "code",
   "execution_count": null,
   "metadata": {
    "collapsed": false
   },
   "outputs": [],
   "source": []
  }
 ],
 "metadata": {
  "kernelspec": {
   "display_name": "Python 3",
   "language": "python",
   "name": "python3"
  },
  "language_info": {
   "codemirror_mode": {
    "name": "ipython",
    "version": 3
   },
   "file_extension": ".py",
   "mimetype": "text/x-python",
   "name": "python",
   "nbconvert_exporter": "python",
   "pygments_lexer": "ipython3",
   "version": "3.4.2"
  }
 },
 "nbformat": 4,
 "nbformat_minor": 0
}
