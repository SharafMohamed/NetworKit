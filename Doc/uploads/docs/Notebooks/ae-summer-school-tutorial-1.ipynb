{
 "metadata": {
  "name": ""
 },
 "nbformat": 3,
 "nbformat_minor": 0,
 "worksheets": [
  {
   "cells": [
    {
     "cell_type": "markdown",
     "metadata": {},
     "source": [
      "## Summer School on Algorithm Engineering\n",
      "# Tutorial \"Algorithmic Methods for Network Analysis -- NetworKit\" (Part 1)\n",
      "\n",
      "Welcome to the hands-on session of our tutorial! This tutorial is based on the user guide of NetworKit, our network analysis software. You will learn in this tutorial how to use NetworKit for fundamental tasks in network analysis.\n",
      "\n",
      "NetworKit can run in your browser (thanks to IPython notebooks) and is still very fast (thanks to C++ code in the background). It is easy to mix text with code and solutions in this environment. Thus, you should be able to obtain your results in a convenient and quick manner. This is not only true for the rather small graphs we use for this tutorial, but for larger instances in production runs as well. In particular you can mix text, code, plots and other rich media in this environment. Since this allows a simplified execution and interpretation of experiments, the interactive approach followed by NetworKit can simplify the cyclic algorithm engineering process significantly (without compromising algorithm performance).\n",
      "\n",
      "## Preparation\n",
      "Let's start by making NetworKit available in your session. Click into the cell below and hit <space>-<return> or click the \"Play\" button or select \"Cell -> Run\" in the menu."
     ]
    },
    {
     "cell_type": "code",
     "collapsed": false,
     "input": [
      "from networkit import *"
     ],
     "language": "python",
     "metadata": {},
     "outputs": [],
     "prompt_number": 11
    },
    {
     "cell_type": "markdown",
     "metadata": {},
     "source": [
      "In case a Python warning appears that recommends an update to Python 3.4, simply ignore it for this tutorial. Python 3.3 works just as fine for our purposes.\n",
      "\n",
      "IPython lets us use familiar shell commands in a Python interpreter. Use one of them now to change into the main directory of your NetworKit installation:"
     ]
    },
    {
     "cell_type": "code",
     "collapsed": false,
     "input": [
      "cd ../.."
     ],
     "language": "python",
     "metadata": {},
     "outputs": [
      {
       "output_type": "stream",
       "stream": "stdout",
       "text": [
        "/Users/Henning/Documents/workspace/NetworKit\n"
       ]
      }
     ],
     "prompt_number": 13
    },
    {
     "cell_type": "markdown",
     "metadata": {},
     "source": [
      "## Reading Graphs\n",
      "Let us start by reading a network from a file on disk: [PGPgiantcompo.graph](http://www.cc.gatech.edu/dimacs10/archive/data/clustering/PGPgiantcompo.graph.bz2). NetworKit supports a number of popular file formats. There is a convenient function in the top namespace which tries to guess the input format and select the appropriate reader:"
     ]
    },
    {
     "cell_type": "code",
     "collapsed": false,
     "input": [
      "G = readGraph(\"input/PGPgiantcompo.graph\")\n",
      "# is the same as: G = readGraph(\"input/PGPgiantcompo.graph\", Format.METIS)"
     ],
     "language": "python",
     "metadata": {},
     "outputs": [],
     "prompt_number": 14
    },
    {
     "cell_type": "markdown",
     "metadata": {},
     "source": [
      "In the course of this tutorial, we are going to work (among others) on the `PGPgiantcompo` network, a social network/web of trust in which nodes are PGP keys and an edge represents a signature from one key on another (web of trust). It is distributed with NetworKit as a good starting point.\n",
      "\n",
      "## The Graph Object\n",
      "\n",
      "`Graph` is the central class of NetworKit. An object of this type represents an optionally weighted network. In this tutorial we work with undirected graphs, but NetworKit supports directed graphs as well.\n",
      "\n",
      "Let us inspect several of the methods which the class provides. Maybe the most basic information is the number of nodes and edges in the network."
     ]
    },
    {
     "cell_type": "code",
     "collapsed": false,
     "input": [
      "n = G.numberOfNodes()\n",
      "m = G.numberOfEdges()\n",
      "print(n, m)"
     ],
     "language": "python",
     "metadata": {},
     "outputs": [
      {
       "output_type": "stream",
       "stream": "stdout",
       "text": [
        "10680 24316\n"
       ]
      }
     ],
     "prompt_number": 15
    },
    {
     "cell_type": "code",
     "collapsed": false,
     "input": [
      "G.toString()"
     ],
     "language": "python",
     "metadata": {},
     "outputs": [
      {
       "metadata": {},
       "output_type": "pyout",
       "prompt_number": 16,
       "text": [
        "b'Graph(name=PGPgiantcompo, n=10680, m=24316)'"
       ]
      }
     ],
     "prompt_number": 16
    },
    {
     "cell_type": "markdown",
     "metadata": {},
     "source": [
      "NetworKit stores nodes simply as integer indices. Edges are pairs of such indices. The following prints the indices of the first ten nodes and edges, respectively."
     ]
    },
    {
     "cell_type": "code",
     "collapsed": false,
     "input": [
      "V = G.nodes()\n",
      "print(V[:10])\n",
      "E = G.edges()\n",
      "print(E[:10])"
     ],
     "language": "python",
     "metadata": {},
     "outputs": [
      {
       "output_type": "stream",
       "stream": "stdout",
       "text": [
        "[0, 1, 2, 3, 4, 5, 6, 7, 8, 9]\n",
        "[(42, 11), (101, 28), (111, 92), (128, 87), (141, 0), (165, 125), (169, 111), (176, 143), (187, 38), (192, 105)]\n"
       ]
      }
     ],
     "prompt_number": 17
    },
    {
     "cell_type": "markdown",
     "metadata": {},
     "source": [
      "Another very useful feature is to determine if an edge is present and what its weight is. In case of unweighted graphs, edges have the default weight 1."
     ]
    },
    {
     "cell_type": "code",
     "collapsed": false,
     "input": [
      "edgeExists = G.hasEdge(42,11)\n",
      "if edgeExists:\n",
      "    print(\"Weight of existing edge:\", G.weight(42,11))\n",
      "print(\"Weight of nonexisting edge:\", G.weight(42,12))"
     ],
     "language": "python",
     "metadata": {},
     "outputs": [
      {
       "output_type": "stream",
       "stream": "stdout",
       "text": [
        "Weight of existing edge: 1.0\n",
        "Weight of nonexisting edge: 0.0\n"
       ]
      }
     ],
     "prompt_number": 18
    },
    {
     "cell_type": "markdown",
     "metadata": {},
     "source": [
      "Many graph algorithms can be expressed with iterators over nodes or edges. As an example, let us iterate over the nodes to determine how many of them have more than 100 neighbors."
     ]
    },
    {
     "cell_type": "code",
     "collapsed": false,
     "input": [
      "count = 0 # counts number of nodes with more than 100 neighbors\n",
      "for v in G.nodes():\n",
      "    if G.degree(v) > 100:\n",
      "        count = count + 1\n",
      "print(\"Number of nodes with more than 100 neighbors: \", count)"
     ],
     "language": "python",
     "metadata": {},
     "outputs": [
      {
       "output_type": "stream",
       "stream": "stdout",
       "text": [
        "Number of nodes with more than 100 neighbors:  6\n"
       ]
      }
     ],
     "prompt_number": 55
    },
    {
     "cell_type": "markdown",
     "metadata": {},
     "source": [
      "## Interesting Features of a Network\n",
      "Let us become more concrete: In the talk this morning you learned about basic network features. Go back to the 'Analytics' section of the slides and answer the following questions within the box below, including the code which found your answer (click on the box to enter text). If you need information on method prototypes, you have at least two options: Use the built-in code completion (tab) or the project website, which offers documentation in the form of an automatically generated reference: https://networkit.iti.kit.edu/documentation/ (Python/C++ Documentation in the left navigation bar).\n",
      "\n",
      "**After** you answered the questions, go on with Tutorial #2."
     ]
    },
    {
     "cell_type": "markdown",
     "metadata": {},
     "source": [
      "### Q&A Session #1\n",
      "1. Who (which vertex) has the least/most 'friends' and how many?\n",
      "**Answer:**\n",
      "\n",
      "2. How many neighbors does a vertex have on average?\n",
      "**Answer:** \n",
      "\n",
      "3. Does the degree distribution follow a power law?\n",
      "**Answer:** \n",
      "\n",
      "4. How often is the friend of a friend also a friend? Let's go for the average fraction here, other definitions are possible...\n",
      "**Answer:**\n",
      "\n",
      "5. How many connected components does the graph have?\n",
      "**Answer:** "
     ]
    },
    {
     "cell_type": "code",
     "collapsed": false,
     "input": [
      "# Enter code for Q&A Session #1 here\n"
     ],
     "language": "python",
     "metadata": {},
     "outputs": [],
     "prompt_number": 56
    }
   ],
   "metadata": {}
  }
 ]
}