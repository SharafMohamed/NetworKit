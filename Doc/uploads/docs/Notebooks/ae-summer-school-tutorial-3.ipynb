{
 "metadata": {
  "name": ""
 },
 "nbformat": 3,
 "nbformat_minor": 0,
 "worksheets": [
  {
   "cells": [
    {
     "cell_type": "markdown",
     "metadata": {},
     "source": [
      "## Summer School on Algorithm Engineering\n",
      "# Tutorial \"Algorithmic Methods for Network Analysis -- NetworKit\" (Part 3)\n",
      "\n",
      "## Determining Important Nodes\n",
      "There are a number of ways to measure the importance of nodes in a network. Possibly the easiest is the degree, i.e. the number of neighbors. In a social network, for example, a person who knows many others could be an important person. However, is this notion really meaningful? Probably not, since it does not consider the importance of the neighbors. Also, there is an interesting effect in social networks with respect to neighborhood sizes. Let us investigate this effect a little bit:\n",
      "\n",
      "### Q&A Session #4\n",
      "1. Do you think your number of online friends is above/below/on average? (You do not have to answer this question openly.)\n",
      "**Answer (may be secret):**\n",
      "\n",
      "2. What do you expect: How many people (in percent) in a social network have fewer friends than their friends on average?\n",
      "**Answer (choose one):**\n",
      "a)  0 -  25%\n",
      "b) 26 -  50%\n",
      "c) 51 -  75%\n",
      "d) 76 - 100%\n",
      "\n",
      "3. Use the Facebook graph. Compute for each vertex the average degree of its neighbors.\n",
      "**Answer:**\n",
      "\n",
      "4. Count the number of persons whose friends have on average more friends. What is their percentage in this network?\n",
      "**Answer:**\n"
     ]
    },
    {
     "cell_type": "code",
     "collapsed": false,
     "input": [
      "# Code for 3-3) and 3-4)\n",
      "%matplotlib inline\n",
      "from networkit import *\n",
      "import matplotlib.pyplot as plt\n",
      "G = readGraph(\"../../input-tutorial/MIT8.edgelist\", Format.EdgeListTabZero)"
     ],
     "language": "python",
     "metadata": {},
     "outputs": [],
     "prompt_number": 3
    },
    {
     "cell_type": "code",
     "collapsed": false,
     "input": [
      "# def avgFriendDegree(v):\n"
     ],
     "language": "python",
     "metadata": {},
     "outputs": [],
     "prompt_number": 4
    },
    {
     "cell_type": "code",
     "collapsed": false,
     "input": [
      "count = 0 # count the number of persons whose friends have on average more friends"
     ],
     "language": "python",
     "metadata": {},
     "outputs": [],
     "prompt_number": 33
    },
    {
     "cell_type": "markdown",
     "metadata": {},
     "source": [
      "Thus, **... % of the users in this network have fewer friends than their friends have on average**. While this result cannot be generalized exactly like this to other networks, the qualitative effect is often seen in social (and other) networks. Thus, let us now consider measures that broaden the rather narrow scope of the degree.\n",
      "\n",
      "### $k$-core Decomposition\n",
      "Thus, the next concept we consider is the $k$-core decomposition. To answer the following Q&A session, go back to the lecture slides.\n",
      "\n",
      "### Q&A Session #5\n",
      "\n",
      "1. What is the definition of an $i$-core? (Note that $k$ is often used for the largest core only!)\n",
      "**Answer:**\n",
      "\n",
      "2. Why do you think it can be considered a more robust measure for importance compared to the degree?\n",
      "**Answer:**\n",
      "\n",
      "3. Compute the $k$-core decomposition of the three networks used before. Then print the non-empty $i$-shells by using the method coreNumbers(). What results (similarities/differences) do you expect? Are these expectations met by the results?\n",
      "**Answer:**\n",
      "\n",
      "4. What disadvantage do you see when using $k$-core decomposition to rate nodes according to their importance?\n",
      "**Answer:**"
     ]
    },
    {
     "cell_type": "code",
     "collapsed": false,
     "input": [
      "# Code for 5-3)\n",
      "mit8 = readGraph(\"../../input-tutorial/MIT8.edgelist\", Format.EdgeListTabZero)\n",
      "airf1 = readGraph(\"../../input/airfoil1.graph\")\n",
      "gen = generators.ErdosRenyiGenerator(1000, 0.01)\n",
      "er1000 = gen.generate()\n",
      "\n",
      "# for g in {mit8, airf1, er1000}:\n"
     ],
     "language": "python",
     "metadata": {},
     "outputs": [],
     "prompt_number": 34
    },
    {
     "cell_type": "markdown",
     "metadata": {},
     "source": [
      "### Centrality Measures\n",
      "The $k$-core decomposition is rather, as the name suggests, a decomposition of the vertices into discrete subsets. Nodes with the same coreness (i.e. in the same shell) have equal importance. Rankings where many vertices are equally important are often not very meaningful. That is why the $k$-core decomposition should not be interpreted as a *fine-grained* ranking mechanism.\n",
      "\n",
      "### Q&A Session #6\n",
      "\n",
      "1. Take the Facebook graph MIT8 and find the most central nodes. Take the relevance of their neighbors into account. Consider that MIT8 models a social network, not a web graph. Which algorithm would you choose? (Hint: Look at the lecture slides!)\n",
      "**Answer:**\n",
      "\n",
      "2. What are the 15 most important nodes according to the method in 1)?\n",
      "**Answer:**\n",
      "\n",
      "3. What other centrality measures do you recall?\n",
      "**Answer:**\n",
      "\n",
      "\n",
      "After you answered the questions, proceed with Tutorial #4.\n"
     ]
    },
    {
     "cell_type": "code",
     "collapsed": false,
     "input": [
      "# Code for 6-1) and 6-2)"
     ],
     "language": "python",
     "metadata": {},
     "outputs": [],
     "prompt_number": 35
    }
   ],
   "metadata": {}
  }
 ]
}